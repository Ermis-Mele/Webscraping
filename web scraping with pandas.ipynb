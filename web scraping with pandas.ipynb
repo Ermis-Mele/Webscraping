{
 "cells": [
  {
   "cell_type": "code",
   "execution_count": 32,
   "id": "03f50b02",
   "metadata": {
    "ExecuteTime": {
     "end_time": "2022-04-28T21:04:30.175110Z",
     "start_time": "2022-04-28T21:04:30.158131Z"
    }
   },
   "outputs": [
    {
     "data": {
      "text/plain": [
       "'https://www.basketball-reference.com/leagues/NBA_2019_per_game.html'"
      ]
     },
     "execution_count": 32,
     "metadata": {},
     "output_type": "execute_result"
    }
   ],
   "source": [
    "year = '2019'\n",
    "url_link = 'https://www.basketball-reference.com/leagues/NBA_{}_per_game.html'\n",
    "\n",
    "url = url_link.format(year)\n",
    "url"
   ]
  },
  {
   "cell_type": "code",
   "execution_count": 33,
   "id": "4e097574",
   "metadata": {
    "ExecuteTime": {
     "end_time": "2022-04-28T21:04:30.815006Z",
     "start_time": "2022-04-28T21:04:30.808010Z"
    }
   },
   "outputs": [
    {
     "name": "stdout",
     "output_type": "stream",
     "text": [
      "https://www.basketball-reference.com/leagues/NBA_2015_per_game.html\n",
      "https://www.basketball-reference.com/leagues/NBA_2016_per_game.html\n",
      "https://www.basketball-reference.com/leagues/NBA_2017_per_game.html\n",
      "https://www.basketball-reference.com/leagues/NBA_2018_per_game.html\n",
      "https://www.basketball-reference.com/leagues/NBA_2019_per_game.html\n"
     ]
    }
   ],
   "source": [
    "years = [2015, 2016, 2017, 2018, 2019]\n",
    "url_link = 'https://www.basketball-reference.com/leagues/NBA_{}_per_game.html'\n",
    "\n",
    "for year in years:\n",
    "    url = url_link.format(year)\n",
    "    print(url)"
   ]
  },
  {
   "cell_type": "code",
   "execution_count": 34,
   "id": "6fa259f5",
   "metadata": {
    "ExecuteTime": {
     "end_time": "2022-04-28T21:04:31.507276Z",
     "start_time": "2022-04-28T21:04:31.501674Z"
    }
   },
   "outputs": [],
   "source": [
    "import pandas as pd \n",
    "import seaborn as sns\n",
    "\n",
    "import warnings\n",
    "warnings.filterwarnings('ignore')"
   ]
  },
  {
   "cell_type": "code",
   "execution_count": 35,
   "id": "9e83a9a7",
   "metadata": {
    "ExecuteTime": {
     "end_time": "2022-04-28T21:04:33.253675Z",
     "start_time": "2022-04-28T21:04:32.295515Z"
    }
   },
   "outputs": [
    {
     "data": {
      "text/plain": [
       "[      Rk        Player Pos Age   Tm   G  GS    MP   FG   FGA  ...   FT%  ORB  \\\n",
       " 0      1  Álex Abrines  SG  25  OKC  31   2  19.0  1.8   5.1  ...  .923  0.2   \n",
       " 1      2    Quincy Acy  PF  28  PHO  10   0  12.3  0.4   1.8  ...  .700  0.3   \n",
       " 2      3  Jaylen Adams  PG  22  ATL  34   1  12.6  1.1   3.2  ...  .778  0.3   \n",
       " 3      4  Steven Adams   C  25  OKC  80  80  33.4  6.0  10.1  ...  .500  4.9   \n",
       " 4      5   Bam Adebayo   C  21  MIA  82  28  23.3  3.4   5.9  ...  .735  2.0   \n",
       " ..   ...           ...  ..  ..  ...  ..  ..   ...  ...   ...  ...   ...  ...   \n",
       " 729  528  Tyler Zeller   C  29  MEM   4   1  20.5  4.0   7.0  ...  .778  2.3   \n",
       " 730  529    Ante Žižić   C  22  CLE  59  25  18.3  3.1   5.6  ...  .705  1.8   \n",
       " 731  530   Ivica Zubac   C  21  TOT  59  37  17.6  3.6   6.4  ...  .802  1.9   \n",
       " 732  530   Ivica Zubac   C  21  LAL  33  12  15.6  3.4   5.8  ...  .864  1.6   \n",
       " 733  530   Ivica Zubac   C  21  LAC  26  25  20.2  3.8   7.2  ...  .733  2.3   \n",
       " \n",
       "      DRB  TRB  AST  STL  BLK  TOV   PF   PTS  \n",
       " 0    1.4  1.5  0.6  0.5  0.2  0.5  1.7   5.3  \n",
       " 1    2.2  2.5  0.8  0.1  0.4  0.4  2.4   1.7  \n",
       " 2    1.4  1.8  1.9  0.4  0.1  0.8  1.3   3.2  \n",
       " 3    4.6  9.5  1.6  1.5  1.0  1.7  2.6  13.9  \n",
       " 4    5.3  7.3  2.2  0.9  0.8  1.5  2.5   8.9  \n",
       " ..   ...  ...  ...  ...  ...  ...  ...   ...  \n",
       " 729  2.3  4.5  0.8  0.3  0.8  1.0  4.0  11.5  \n",
       " 730  3.6  5.4  0.9  0.2  0.4  1.0  1.9   7.8  \n",
       " 731  4.2  6.1  1.1  0.2  0.9  1.2  2.3   8.9  \n",
       " 732  3.3  4.9  0.8  0.1  0.8  1.0  2.2   8.5  \n",
       " 733  5.3  7.7  1.5  0.4  0.9  1.4  2.5   9.4  \n",
       " \n",
       " [734 rows x 30 columns]]"
      ]
     },
     "execution_count": 35,
     "metadata": {},
     "output_type": "execute_result"
    }
   ],
   "source": [
    "df = pd.read_html(url, header=0)\n",
    "df"
   ]
  },
  {
   "cell_type": "code",
   "execution_count": 36,
   "id": "224116e7",
   "metadata": {
    "ExecuteTime": {
     "end_time": "2022-04-28T21:04:33.267692Z",
     "start_time": "2022-04-28T21:04:33.257674Z"
    }
   },
   "outputs": [
    {
     "data": {
      "text/plain": [
       "1"
      ]
     },
     "execution_count": 36,
     "metadata": {},
     "output_type": "execute_result"
    }
   ],
   "source": [
    "len(df)"
   ]
  },
  {
   "cell_type": "code",
   "execution_count": 37,
   "id": "56bf16ce",
   "metadata": {
    "ExecuteTime": {
     "end_time": "2022-04-28T21:04:34.500433Z",
     "start_time": "2022-04-28T21:04:34.470435Z"
    }
   },
   "outputs": [
    {
     "data": {
      "text/html": [
       "<div>\n",
       "<style scoped>\n",
       "    .dataframe tbody tr th:only-of-type {\n",
       "        vertical-align: middle;\n",
       "    }\n",
       "\n",
       "    .dataframe tbody tr th {\n",
       "        vertical-align: top;\n",
       "    }\n",
       "\n",
       "    .dataframe thead th {\n",
       "        text-align: right;\n",
       "    }\n",
       "</style>\n",
       "<table border=\"1\" class=\"dataframe\">\n",
       "  <thead>\n",
       "    <tr style=\"text-align: right;\">\n",
       "      <th></th>\n",
       "      <th>Rk</th>\n",
       "      <th>Player</th>\n",
       "      <th>Pos</th>\n",
       "      <th>Age</th>\n",
       "      <th>Tm</th>\n",
       "      <th>G</th>\n",
       "      <th>GS</th>\n",
       "      <th>MP</th>\n",
       "      <th>FG</th>\n",
       "      <th>FGA</th>\n",
       "      <th>...</th>\n",
       "      <th>FT%</th>\n",
       "      <th>ORB</th>\n",
       "      <th>DRB</th>\n",
       "      <th>TRB</th>\n",
       "      <th>AST</th>\n",
       "      <th>STL</th>\n",
       "      <th>BLK</th>\n",
       "      <th>TOV</th>\n",
       "      <th>PF</th>\n",
       "      <th>PTS</th>\n",
       "    </tr>\n",
       "  </thead>\n",
       "  <tbody>\n",
       "    <tr>\n",
       "      <th>0</th>\n",
       "      <td>1</td>\n",
       "      <td>Álex Abrines</td>\n",
       "      <td>SG</td>\n",
       "      <td>25</td>\n",
       "      <td>OKC</td>\n",
       "      <td>31</td>\n",
       "      <td>2</td>\n",
       "      <td>19.0</td>\n",
       "      <td>1.8</td>\n",
       "      <td>5.1</td>\n",
       "      <td>...</td>\n",
       "      <td>.923</td>\n",
       "      <td>0.2</td>\n",
       "      <td>1.4</td>\n",
       "      <td>1.5</td>\n",
       "      <td>0.6</td>\n",
       "      <td>0.5</td>\n",
       "      <td>0.2</td>\n",
       "      <td>0.5</td>\n",
       "      <td>1.7</td>\n",
       "      <td>5.3</td>\n",
       "    </tr>\n",
       "    <tr>\n",
       "      <th>1</th>\n",
       "      <td>2</td>\n",
       "      <td>Quincy Acy</td>\n",
       "      <td>PF</td>\n",
       "      <td>28</td>\n",
       "      <td>PHO</td>\n",
       "      <td>10</td>\n",
       "      <td>0</td>\n",
       "      <td>12.3</td>\n",
       "      <td>0.4</td>\n",
       "      <td>1.8</td>\n",
       "      <td>...</td>\n",
       "      <td>.700</td>\n",
       "      <td>0.3</td>\n",
       "      <td>2.2</td>\n",
       "      <td>2.5</td>\n",
       "      <td>0.8</td>\n",
       "      <td>0.1</td>\n",
       "      <td>0.4</td>\n",
       "      <td>0.4</td>\n",
       "      <td>2.4</td>\n",
       "      <td>1.7</td>\n",
       "    </tr>\n",
       "    <tr>\n",
       "      <th>2</th>\n",
       "      <td>3</td>\n",
       "      <td>Jaylen Adams</td>\n",
       "      <td>PG</td>\n",
       "      <td>22</td>\n",
       "      <td>ATL</td>\n",
       "      <td>34</td>\n",
       "      <td>1</td>\n",
       "      <td>12.6</td>\n",
       "      <td>1.1</td>\n",
       "      <td>3.2</td>\n",
       "      <td>...</td>\n",
       "      <td>.778</td>\n",
       "      <td>0.3</td>\n",
       "      <td>1.4</td>\n",
       "      <td>1.8</td>\n",
       "      <td>1.9</td>\n",
       "      <td>0.4</td>\n",
       "      <td>0.1</td>\n",
       "      <td>0.8</td>\n",
       "      <td>1.3</td>\n",
       "      <td>3.2</td>\n",
       "    </tr>\n",
       "    <tr>\n",
       "      <th>3</th>\n",
       "      <td>4</td>\n",
       "      <td>Steven Adams</td>\n",
       "      <td>C</td>\n",
       "      <td>25</td>\n",
       "      <td>OKC</td>\n",
       "      <td>80</td>\n",
       "      <td>80</td>\n",
       "      <td>33.4</td>\n",
       "      <td>6.0</td>\n",
       "      <td>10.1</td>\n",
       "      <td>...</td>\n",
       "      <td>.500</td>\n",
       "      <td>4.9</td>\n",
       "      <td>4.6</td>\n",
       "      <td>9.5</td>\n",
       "      <td>1.6</td>\n",
       "      <td>1.5</td>\n",
       "      <td>1.0</td>\n",
       "      <td>1.7</td>\n",
       "      <td>2.6</td>\n",
       "      <td>13.9</td>\n",
       "    </tr>\n",
       "    <tr>\n",
       "      <th>4</th>\n",
       "      <td>5</td>\n",
       "      <td>Bam Adebayo</td>\n",
       "      <td>C</td>\n",
       "      <td>21</td>\n",
       "      <td>MIA</td>\n",
       "      <td>82</td>\n",
       "      <td>28</td>\n",
       "      <td>23.3</td>\n",
       "      <td>3.4</td>\n",
       "      <td>5.9</td>\n",
       "      <td>...</td>\n",
       "      <td>.735</td>\n",
       "      <td>2.0</td>\n",
       "      <td>5.3</td>\n",
       "      <td>7.3</td>\n",
       "      <td>2.2</td>\n",
       "      <td>0.9</td>\n",
       "      <td>0.8</td>\n",
       "      <td>1.5</td>\n",
       "      <td>2.5</td>\n",
       "      <td>8.9</td>\n",
       "    </tr>\n",
       "    <tr>\n",
       "      <th>...</th>\n",
       "      <td>...</td>\n",
       "      <td>...</td>\n",
       "      <td>...</td>\n",
       "      <td>...</td>\n",
       "      <td>...</td>\n",
       "      <td>...</td>\n",
       "      <td>...</td>\n",
       "      <td>...</td>\n",
       "      <td>...</td>\n",
       "      <td>...</td>\n",
       "      <td>...</td>\n",
       "      <td>...</td>\n",
       "      <td>...</td>\n",
       "      <td>...</td>\n",
       "      <td>...</td>\n",
       "      <td>...</td>\n",
       "      <td>...</td>\n",
       "      <td>...</td>\n",
       "      <td>...</td>\n",
       "      <td>...</td>\n",
       "      <td>...</td>\n",
       "    </tr>\n",
       "    <tr>\n",
       "      <th>729</th>\n",
       "      <td>528</td>\n",
       "      <td>Tyler Zeller</td>\n",
       "      <td>C</td>\n",
       "      <td>29</td>\n",
       "      <td>MEM</td>\n",
       "      <td>4</td>\n",
       "      <td>1</td>\n",
       "      <td>20.5</td>\n",
       "      <td>4.0</td>\n",
       "      <td>7.0</td>\n",
       "      <td>...</td>\n",
       "      <td>.778</td>\n",
       "      <td>2.3</td>\n",
       "      <td>2.3</td>\n",
       "      <td>4.5</td>\n",
       "      <td>0.8</td>\n",
       "      <td>0.3</td>\n",
       "      <td>0.8</td>\n",
       "      <td>1.0</td>\n",
       "      <td>4.0</td>\n",
       "      <td>11.5</td>\n",
       "    </tr>\n",
       "    <tr>\n",
       "      <th>730</th>\n",
       "      <td>529</td>\n",
       "      <td>Ante Žižić</td>\n",
       "      <td>C</td>\n",
       "      <td>22</td>\n",
       "      <td>CLE</td>\n",
       "      <td>59</td>\n",
       "      <td>25</td>\n",
       "      <td>18.3</td>\n",
       "      <td>3.1</td>\n",
       "      <td>5.6</td>\n",
       "      <td>...</td>\n",
       "      <td>.705</td>\n",
       "      <td>1.8</td>\n",
       "      <td>3.6</td>\n",
       "      <td>5.4</td>\n",
       "      <td>0.9</td>\n",
       "      <td>0.2</td>\n",
       "      <td>0.4</td>\n",
       "      <td>1.0</td>\n",
       "      <td>1.9</td>\n",
       "      <td>7.8</td>\n",
       "    </tr>\n",
       "    <tr>\n",
       "      <th>731</th>\n",
       "      <td>530</td>\n",
       "      <td>Ivica Zubac</td>\n",
       "      <td>C</td>\n",
       "      <td>21</td>\n",
       "      <td>TOT</td>\n",
       "      <td>59</td>\n",
       "      <td>37</td>\n",
       "      <td>17.6</td>\n",
       "      <td>3.6</td>\n",
       "      <td>6.4</td>\n",
       "      <td>...</td>\n",
       "      <td>.802</td>\n",
       "      <td>1.9</td>\n",
       "      <td>4.2</td>\n",
       "      <td>6.1</td>\n",
       "      <td>1.1</td>\n",
       "      <td>0.2</td>\n",
       "      <td>0.9</td>\n",
       "      <td>1.2</td>\n",
       "      <td>2.3</td>\n",
       "      <td>8.9</td>\n",
       "    </tr>\n",
       "    <tr>\n",
       "      <th>732</th>\n",
       "      <td>530</td>\n",
       "      <td>Ivica Zubac</td>\n",
       "      <td>C</td>\n",
       "      <td>21</td>\n",
       "      <td>LAL</td>\n",
       "      <td>33</td>\n",
       "      <td>12</td>\n",
       "      <td>15.6</td>\n",
       "      <td>3.4</td>\n",
       "      <td>5.8</td>\n",
       "      <td>...</td>\n",
       "      <td>.864</td>\n",
       "      <td>1.6</td>\n",
       "      <td>3.3</td>\n",
       "      <td>4.9</td>\n",
       "      <td>0.8</td>\n",
       "      <td>0.1</td>\n",
       "      <td>0.8</td>\n",
       "      <td>1.0</td>\n",
       "      <td>2.2</td>\n",
       "      <td>8.5</td>\n",
       "    </tr>\n",
       "    <tr>\n",
       "      <th>733</th>\n",
       "      <td>530</td>\n",
       "      <td>Ivica Zubac</td>\n",
       "      <td>C</td>\n",
       "      <td>21</td>\n",
       "      <td>LAC</td>\n",
       "      <td>26</td>\n",
       "      <td>25</td>\n",
       "      <td>20.2</td>\n",
       "      <td>3.8</td>\n",
       "      <td>7.2</td>\n",
       "      <td>...</td>\n",
       "      <td>.733</td>\n",
       "      <td>2.3</td>\n",
       "      <td>5.3</td>\n",
       "      <td>7.7</td>\n",
       "      <td>1.5</td>\n",
       "      <td>0.4</td>\n",
       "      <td>0.9</td>\n",
       "      <td>1.4</td>\n",
       "      <td>2.5</td>\n",
       "      <td>9.4</td>\n",
       "    </tr>\n",
       "  </tbody>\n",
       "</table>\n",
       "<p>734 rows × 30 columns</p>\n",
       "</div>"
      ],
      "text/plain": [
       "      Rk        Player Pos Age   Tm   G  GS    MP   FG   FGA  ...   FT%  ORB  \\\n",
       "0      1  Álex Abrines  SG  25  OKC  31   2  19.0  1.8   5.1  ...  .923  0.2   \n",
       "1      2    Quincy Acy  PF  28  PHO  10   0  12.3  0.4   1.8  ...  .700  0.3   \n",
       "2      3  Jaylen Adams  PG  22  ATL  34   1  12.6  1.1   3.2  ...  .778  0.3   \n",
       "3      4  Steven Adams   C  25  OKC  80  80  33.4  6.0  10.1  ...  .500  4.9   \n",
       "4      5   Bam Adebayo   C  21  MIA  82  28  23.3  3.4   5.9  ...  .735  2.0   \n",
       "..   ...           ...  ..  ..  ...  ..  ..   ...  ...   ...  ...   ...  ...   \n",
       "729  528  Tyler Zeller   C  29  MEM   4   1  20.5  4.0   7.0  ...  .778  2.3   \n",
       "730  529    Ante Žižić   C  22  CLE  59  25  18.3  3.1   5.6  ...  .705  1.8   \n",
       "731  530   Ivica Zubac   C  21  TOT  59  37  17.6  3.6   6.4  ...  .802  1.9   \n",
       "732  530   Ivica Zubac   C  21  LAL  33  12  15.6  3.4   5.8  ...  .864  1.6   \n",
       "733  530   Ivica Zubac   C  21  LAC  26  25  20.2  3.8   7.2  ...  .733  2.3   \n",
       "\n",
       "     DRB  TRB  AST  STL  BLK  TOV   PF   PTS  \n",
       "0    1.4  1.5  0.6  0.5  0.2  0.5  1.7   5.3  \n",
       "1    2.2  2.5  0.8  0.1  0.4  0.4  2.4   1.7  \n",
       "2    1.4  1.8  1.9  0.4  0.1  0.8  1.3   3.2  \n",
       "3    4.6  9.5  1.6  1.5  1.0  1.7  2.6  13.9  \n",
       "4    5.3  7.3  2.2  0.9  0.8  1.5  2.5   8.9  \n",
       "..   ...  ...  ...  ...  ...  ...  ...   ...  \n",
       "729  2.3  4.5  0.8  0.3  0.8  1.0  4.0  11.5  \n",
       "730  3.6  5.4  0.9  0.2  0.4  1.0  1.9   7.8  \n",
       "731  4.2  6.1  1.1  0.2  0.9  1.2  2.3   8.9  \n",
       "732  3.3  4.9  0.8  0.1  0.8  1.0  2.2   8.5  \n",
       "733  5.3  7.7  1.5  0.4  0.9  1.4  2.5   9.4  \n",
       "\n",
       "[734 rows x 30 columns]"
      ]
     },
     "execution_count": 37,
     "metadata": {},
     "output_type": "execute_result"
    }
   ],
   "source": [
    "df[0]"
   ]
  },
  {
   "cell_type": "code",
   "execution_count": 38,
   "id": "7e98c1b9",
   "metadata": {
    "ExecuteTime": {
     "end_time": "2022-04-28T21:04:35.376697Z",
     "start_time": "2022-04-28T21:04:35.363677Z"
    }
   },
   "outputs": [],
   "source": [
    "df2019=df[0]"
   ]
  },
  {
   "cell_type": "code",
   "execution_count": 39,
   "id": "0931b421",
   "metadata": {
    "ExecuteTime": {
     "end_time": "2022-04-28T21:04:39.885177Z",
     "start_time": "2022-04-28T21:04:39.852432Z"
    }
   },
   "outputs": [
    {
     "data": {
      "text/html": [
       "<div>\n",
       "<style scoped>\n",
       "    .dataframe tbody tr th:only-of-type {\n",
       "        vertical-align: middle;\n",
       "    }\n",
       "\n",
       "    .dataframe tbody tr th {\n",
       "        vertical-align: top;\n",
       "    }\n",
       "\n",
       "    .dataframe thead th {\n",
       "        text-align: right;\n",
       "    }\n",
       "</style>\n",
       "<table border=\"1\" class=\"dataframe\">\n",
       "  <thead>\n",
       "    <tr style=\"text-align: right;\">\n",
       "      <th></th>\n",
       "      <th>Rk</th>\n",
       "      <th>Player</th>\n",
       "      <th>Pos</th>\n",
       "      <th>Age</th>\n",
       "      <th>Tm</th>\n",
       "      <th>G</th>\n",
       "      <th>GS</th>\n",
       "      <th>MP</th>\n",
       "      <th>FG</th>\n",
       "      <th>FGA</th>\n",
       "      <th>...</th>\n",
       "      <th>FT%</th>\n",
       "      <th>ORB</th>\n",
       "      <th>DRB</th>\n",
       "      <th>TRB</th>\n",
       "      <th>AST</th>\n",
       "      <th>STL</th>\n",
       "      <th>BLK</th>\n",
       "      <th>TOV</th>\n",
       "      <th>PF</th>\n",
       "      <th>PTS</th>\n",
       "    </tr>\n",
       "  </thead>\n",
       "  <tbody>\n",
       "    <tr>\n",
       "      <th>22</th>\n",
       "      <td>Rk</td>\n",
       "      <td>Player</td>\n",
       "      <td>Pos</td>\n",
       "      <td>Age</td>\n",
       "      <td>Tm</td>\n",
       "      <td>G</td>\n",
       "      <td>GS</td>\n",
       "      <td>MP</td>\n",
       "      <td>FG</td>\n",
       "      <td>FGA</td>\n",
       "      <td>...</td>\n",
       "      <td>FT%</td>\n",
       "      <td>ORB</td>\n",
       "      <td>DRB</td>\n",
       "      <td>TRB</td>\n",
       "      <td>AST</td>\n",
       "      <td>STL</td>\n",
       "      <td>BLK</td>\n",
       "      <td>TOV</td>\n",
       "      <td>PF</td>\n",
       "      <td>PTS</td>\n",
       "    </tr>\n",
       "    <tr>\n",
       "      <th>49</th>\n",
       "      <td>Rk</td>\n",
       "      <td>Player</td>\n",
       "      <td>Pos</td>\n",
       "      <td>Age</td>\n",
       "      <td>Tm</td>\n",
       "      <td>G</td>\n",
       "      <td>GS</td>\n",
       "      <td>MP</td>\n",
       "      <td>FG</td>\n",
       "      <td>FGA</td>\n",
       "      <td>...</td>\n",
       "      <td>FT%</td>\n",
       "      <td>ORB</td>\n",
       "      <td>DRB</td>\n",
       "      <td>TRB</td>\n",
       "      <td>AST</td>\n",
       "      <td>STL</td>\n",
       "      <td>BLK</td>\n",
       "      <td>TOV</td>\n",
       "      <td>PF</td>\n",
       "      <td>PTS</td>\n",
       "    </tr>\n",
       "    <tr>\n",
       "      <th>70</th>\n",
       "      <td>Rk</td>\n",
       "      <td>Player</td>\n",
       "      <td>Pos</td>\n",
       "      <td>Age</td>\n",
       "      <td>Tm</td>\n",
       "      <td>G</td>\n",
       "      <td>GS</td>\n",
       "      <td>MP</td>\n",
       "      <td>FG</td>\n",
       "      <td>FGA</td>\n",
       "      <td>...</td>\n",
       "      <td>FT%</td>\n",
       "      <td>ORB</td>\n",
       "      <td>DRB</td>\n",
       "      <td>TRB</td>\n",
       "      <td>AST</td>\n",
       "      <td>STL</td>\n",
       "      <td>BLK</td>\n",
       "      <td>TOV</td>\n",
       "      <td>PF</td>\n",
       "      <td>PTS</td>\n",
       "    </tr>\n",
       "    <tr>\n",
       "      <th>97</th>\n",
       "      <td>Rk</td>\n",
       "      <td>Player</td>\n",
       "      <td>Pos</td>\n",
       "      <td>Age</td>\n",
       "      <td>Tm</td>\n",
       "      <td>G</td>\n",
       "      <td>GS</td>\n",
       "      <td>MP</td>\n",
       "      <td>FG</td>\n",
       "      <td>FGA</td>\n",
       "      <td>...</td>\n",
       "      <td>FT%</td>\n",
       "      <td>ORB</td>\n",
       "      <td>DRB</td>\n",
       "      <td>TRB</td>\n",
       "      <td>AST</td>\n",
       "      <td>STL</td>\n",
       "      <td>BLK</td>\n",
       "      <td>TOV</td>\n",
       "      <td>PF</td>\n",
       "      <td>PTS</td>\n",
       "    </tr>\n",
       "    <tr>\n",
       "      <th>132</th>\n",
       "      <td>Rk</td>\n",
       "      <td>Player</td>\n",
       "      <td>Pos</td>\n",
       "      <td>Age</td>\n",
       "      <td>Tm</td>\n",
       "      <td>G</td>\n",
       "      <td>GS</td>\n",
       "      <td>MP</td>\n",
       "      <td>FG</td>\n",
       "      <td>FGA</td>\n",
       "      <td>...</td>\n",
       "      <td>FT%</td>\n",
       "      <td>ORB</td>\n",
       "      <td>DRB</td>\n",
       "      <td>TRB</td>\n",
       "      <td>AST</td>\n",
       "      <td>STL</td>\n",
       "      <td>BLK</td>\n",
       "      <td>TOV</td>\n",
       "      <td>PF</td>\n",
       "      <td>PTS</td>\n",
       "    </tr>\n",
       "  </tbody>\n",
       "</table>\n",
       "<p>5 rows × 30 columns</p>\n",
       "</div>"
      ],
      "text/plain": [
       "     Rk  Player  Pos  Age  Tm  G  GS  MP  FG  FGA  ...  FT%  ORB  DRB  TRB  \\\n",
       "22   Rk  Player  Pos  Age  Tm  G  GS  MP  FG  FGA  ...  FT%  ORB  DRB  TRB   \n",
       "49   Rk  Player  Pos  Age  Tm  G  GS  MP  FG  FGA  ...  FT%  ORB  DRB  TRB   \n",
       "70   Rk  Player  Pos  Age  Tm  G  GS  MP  FG  FGA  ...  FT%  ORB  DRB  TRB   \n",
       "97   Rk  Player  Pos  Age  Tm  G  GS  MP  FG  FGA  ...  FT%  ORB  DRB  TRB   \n",
       "132  Rk  Player  Pos  Age  Tm  G  GS  MP  FG  FGA  ...  FT%  ORB  DRB  TRB   \n",
       "\n",
       "     AST  STL  BLK  TOV  PF  PTS  \n",
       "22   AST  STL  BLK  TOV  PF  PTS  \n",
       "49   AST  STL  BLK  TOV  PF  PTS  \n",
       "70   AST  STL  BLK  TOV  PF  PTS  \n",
       "97   AST  STL  BLK  TOV  PF  PTS  \n",
       "132  AST  STL  BLK  TOV  PF  PTS  \n",
       "\n",
       "[5 rows x 30 columns]"
      ]
     },
     "execution_count": 39,
     "metadata": {},
     "output_type": "execute_result"
    }
   ],
   "source": [
    "df2019[df2019.Age== 'Age'].head()"
   ]
  },
  {
   "cell_type": "code",
   "execution_count": 40,
   "id": "e9abb1b8",
   "metadata": {
    "ExecuteTime": {
     "end_time": "2022-04-28T21:04:40.313406Z",
     "start_time": "2022-04-28T21:04:40.300406Z"
    }
   },
   "outputs": [
    {
     "data": {
      "text/plain": [
       "26"
      ]
     },
     "execution_count": 40,
     "metadata": {},
     "output_type": "execute_result"
    }
   ],
   "source": [
    "len(df2019[df2019.Age == 'Age'])"
   ]
  },
  {
   "cell_type": "code",
   "execution_count": 41,
   "id": "296757d4",
   "metadata": {
    "ExecuteTime": {
     "end_time": "2022-04-28T21:04:40.549409Z",
     "start_time": "2022-04-28T21:04:40.529330Z"
    }
   },
   "outputs": [],
   "source": [
    "df = df2019.drop(df2019[df2019.Age=='Age'].index)"
   ]
  },
  {
   "cell_type": "code",
   "execution_count": 46,
   "id": "594bb65a",
   "metadata": {
    "ExecuteTime": {
     "end_time": "2022-04-28T21:23:55.877524Z",
     "start_time": "2022-04-28T21:23:55.860514Z"
    }
   },
   "outputs": [
    {
     "data": {
      "text/plain": [
       "(734, 30)"
      ]
     },
     "execution_count": 46,
     "metadata": {},
     "output_type": "execute_result"
    }
   ],
   "source": [
    "df2019.shape"
   ]
  },
  {
   "cell_type": "code",
   "execution_count": 42,
   "id": "d15c059b",
   "metadata": {
    "ExecuteTime": {
     "end_time": "2022-04-28T21:04:40.739430Z",
     "start_time": "2022-04-28T21:04:40.719418Z"
    }
   },
   "outputs": [
    {
     "data": {
      "text/plain": [
       "(708, 30)"
      ]
     },
     "execution_count": 42,
     "metadata": {},
     "output_type": "execute_result"
    }
   ],
   "source": [
    "df.shape\n"
   ]
  },
  {
   "cell_type": "code",
   "execution_count": 44,
   "id": "a62a91af",
   "metadata": {
    "ExecuteTime": {
     "end_time": "2022-04-28T21:19:13.976089Z",
     "start_time": "2022-04-28T21:19:13.810478Z"
    }
   },
   "outputs": [
    {
     "data": {
      "text/plain": [
       "<AxesSubplot:xlabel='PTS'>"
      ]
     },
     "execution_count": 44,
     "metadata": {},
     "output_type": "execute_result"
    },
    {
     "data": {
      "image/png": "[encoded data removed]",
      "text/plain": [
       "<Figure size 432x288 with 1 Axes>"
      ]
     },
     "metadata": {
      "needs_background": "light"
     },
     "output_type": "display_data"
    }
   ],
   "source": [
    "sns.distplot(df.PTS, kde=False)"
   ]
  },
  {
   "cell_type": "code",
   "execution_count": 57,
   "id": "898cf6cf",
   "metadata": {
    "ExecuteTime": {
     "end_time": "2022-04-28T21:35:05.259106Z",
     "start_time": "2022-04-28T21:35:05.091065Z"
    }
   },
   "outputs": [
    {
     "data": {
      "text/plain": [
       "<AxesSubplot:xlabel='PTS'>"
      ]
     },
     "execution_count": 57,
     "metadata": {},
     "output_type": "execute_result"
    },
    {
     "data": {
      "image/png": "[encoded data removed]",
      "text/plain": [
       "<Figure size 432x288 with 1 Axes>"
      ]
     },
     "metadata": {
      "needs_background": "light"
     },
     "output_type": "display_data"
    }
   ],
   "source": [
    "sns.distplot(df.PTS,\n",
    "             kde=False,\n",
    "             hist_kws=dict(edgecolor=\"black\", linewidth=2),\n",
    "             color='#39a')"
   ]
  },
  {
   "cell_type": "code",
   "execution_count": null,
   "id": "24636fd9",
   "metadata": {},
   "outputs": [],
   "source": []
  }
 ],
 "metadata": {
  "kernelspec": {
   "display_name": "Python 3 (ipykernel)",
   "language": "python",
   "name": "python3"
  },
  "language_info": {
   "codemirror_mode": {
    "name": "ipython",
    "version": 3
   },
   "file_extension": ".py",
   "mimetype": "text/x-python",
   "name": "python",
   "nbconvert_exporter": "python",
   "pygments_lexer": "ipython3",
   "version": "3.9.7"
  }
 },
 "nbformat": 4,
 "nbformat_minor": 5
}
